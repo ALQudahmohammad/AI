{
  "nbformat": 4,
  "nbformat_minor": 0,
  "metadata": {
    "colab": {
      "provenance": [],
      "authorship_tag": "ABX9TyNK5Ep2HiTvD6pp+sGG/gHU",
      "include_colab_link": true
    },
    "kernelspec": {
      "name": "python3",
      "display_name": "Python 3"
    },
    "language_info": {
      "name": "python"
    }
  },
  "cells": [
    {
      "cell_type": "markdown",
      "metadata": {
        "id": "view-in-github",
        "colab_type": "text"
      },
      "source": [
        "<a href=\"https://colab.research.google.com/github/ALQudahmohammad/AI/blob/main/Untitled0.ipynb\" target=\"_parent\"><img src=\"https://colab.research.google.com/assets/colab-badge.svg\" alt=\"Open In Colab\"/></a>"
      ]
    },
    {
      "cell_type": "code",
      "source": [
        "!pip install experta"
      ],
      "metadata": {
        "colab": {
          "base_uri": "https://localhost:8080/"
        },
        "id": "UcXTc-AVyar5",
        "outputId": "c897caa1-b945-41ab-d326-334248bb4237"
      },
      "execution_count": 2,
      "outputs": [
        {
          "output_type": "stream",
          "name": "stdout",
          "text": [
            "Looking in indexes: https://pypi.org/simple, https://us-python.pkg.dev/colab-wheels/public/simple/\n",
            "Collecting experta\n",
            "  Downloading experta-1.9.4-py3-none-any.whl (35 kB)\n",
            "Collecting schema==0.6.7\n",
            "  Downloading schema-0.6.7-py2.py3-none-any.whl (14 kB)\n",
            "Collecting frozendict==1.2\n",
            "  Downloading frozendict-1.2.tar.gz (2.6 kB)\n",
            "Building wheels for collected packages: frozendict\n",
            "  Building wheel for frozendict (setup.py) ... \u001b[?25l\u001b[?25hdone\n",
            "  Created wheel for frozendict: filename=frozendict-1.2-py3-none-any.whl size=3166 sha256=530d4551fc4622e366c2e1b9e2f9deb631593caa1f1382303eadb30ab9d43e7f\n",
            "  Stored in directory: /root/.cache/pip/wheels/68/17/69/ac196dd181e620bba5fae5488e4fd6366a7316dce13cf88776\n",
            "Successfully built frozendict\n",
            "Installing collected packages: schema, frozendict, experta\n",
            "Successfully installed experta-1.9.4 frozendict-1.2 schema-0.6.7\n"
          ]
        }
      ]
    },
    {
      "cell_type": "code",
      "source": [
        "from experta import *\n",
        "class Alert(Fact):\n",
        "    \"\"\"The alert level.\"\"\"\n",
        "    pass\n",
        "\n",
        "class Status(Fact):\n",
        "    \"\"\"The system status.\"\"\"\n",
        "    pass\n",
        "\n",
        "f1 = Alert('red')\n",
        "f2 = Status('critical')\n",
        "#scand way to defintion fact\n",
        "my_fact1=Fact(alert='red',status='critical')\n",
        "print(f1)\n",
        "print(f2)\n",
        "print(my_fact1)"
      ],
      "metadata": {
        "colab": {
          "base_uri": "https://localhost:8080/"
        },
        "id": "9kWMQp0wG5HL",
        "outputId": "b5ea8c26-dbd2-41eb-b2b8-b9e2fbdeedb4"
      },
      "execution_count": 9,
      "outputs": [
        {
          "output_type": "stream",
          "name": "stdout",
          "text": [
            "<Undeclared Fact> Alert('red')\n",
            "<Undeclared Fact> Status('critical')\n",
            "<Undeclared Fact> Fact(alert='red', status='critical')\n"
          ]
        }
      ]
    },
    {
      "cell_type": "code",
      "source": [],
      "metadata": {
        "id": "B2r7rxaBNaDa"
      },
      "execution_count": null,
      "outputs": []
    },
    {
      "cell_type": "code",
      "source": [
        "from experta import *\n",
        "traffic_light=Fact(color='red')\n",
        "#this Rule IF traffic light is a red THAN action is stop \n",
        "@Rule(Fact(color='red'))\n",
        "def car_action():\n",
        "  print('action is stop ')\n"
      ],
      "metadata": {
        "id": "mAgPUXuqNaah"
      },
      "execution_count": 12,
      "outputs": []
    },
    {
      "cell_type": "code",
      "source": [
        "class Rectangle:\n",
        "  def __init__(self, length, width):\n",
        "      self.length = length\n",
        "      self.width = width\n",
        "\n",
        "  def area(self):\n",
        "      return self.length * self.width\n",
        "\n",
        "  def perimeter(self):\n",
        "      return 2 * (self.length + self.width) \n",
        "\n",
        "  def __str__(self):\n",
        "    return 'length: {} \\t width:{}'.format(self.length, self.width)"
      ],
      "metadata": {
        "id": "1X1TYIW4kt32"
      },
      "execution_count": 18,
      "outputs": []
    },
    {
      "cell_type": "code",
      "source": [
        "r1 = Rectangle(length=4, width=4) # rectangle\n",
        "print(r1)\n",
        "print(r1.area())\n",
        "print(r1.perimeter())"
      ],
      "metadata": {
        "colab": {
          "base_uri": "https://localhost:8080/"
        },
        "id": "PjbGrFdVk3Zf",
        "outputId": "29b7b492-8271-4f4c-8b0b-74fe4befac3e"
      },
      "execution_count": 19,
      "outputs": [
        {
          "output_type": "stream",
          "name": "stdout",
          "text": [
            "length: 4 \t width:4\n",
            "16\n",
            "16\n"
          ]
        }
      ]
    },
    {
      "cell_type": "code",
      "source": [
        "#  Here we declare that the Square class inherits from the Rectangle class\n",
        "class Square(Rectangle):\n",
        "    def __init__(self, x):\n",
        "        super().__init__(x, x)\n",
        "        \n",
        "s2 = Square(3)\n",
        "print(s2)\n",
        "print(s2.area())\n",
        "print(s2.perimeter())"
      ],
      "metadata": {
        "colab": {
          "base_uri": "https://localhost:8080/"
        },
        "id": "iQ1-v82tlOmI",
        "outputId": "7ce3c943-a116-4b2c-f1d2-69ecff0e04a7"
      },
      "execution_count": 20,
      "outputs": [
        {
          "output_type": "stream",
          "name": "stdout",
          "text": [
            "length: 3 \t width:3\n",
            "9\n",
            "12\n"
          ]
        }
      ]
    }
  ]
}