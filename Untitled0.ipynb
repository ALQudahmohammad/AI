{
  "nbformat": 4,
  "nbformat_minor": 0,
  "metadata": {
    "colab": {
      "provenance": [],
      "authorship_tag": "ABX9TyMI45a7kzeTHMDw97AqBamK",
      "include_colab_link": true
    },
    "kernelspec": {
      "name": "python3",
      "display_name": "Python 3"
    },
    "language_info": {
      "name": "python"
    }
  },
  "cells": [
    {
      "cell_type": "markdown",
      "metadata": {
        "id": "view-in-github",
        "colab_type": "text"
      },
      "source": [
        "<a href=\"https://colab.research.google.com/github/ALQudahmohammad/AI/blob/main/Untitled0.ipynb\" target=\"_parent\"><img src=\"https://colab.research.google.com/assets/colab-badge.svg\" alt=\"Open In Colab\"/></a>"
      ]
    },
    {
      "cell_type": "markdown",
      "source": [
        "Python Expert system \n"
      ],
      "metadata": {
        "id": "7pKlmXbiuPP1"
      }
    },
    {
      "cell_type": "code",
      "source": [
        "! pip install experta"
      ],
      "metadata": {
        "colab": {
          "base_uri": "https://localhost:8080/"
        },
        "id": "RjlTFc5ouBEn",
        "outputId": "48915c8b-c2c3-4071-ab6f-3b2c066031aa"
      },
      "execution_count": 42,
      "outputs": [
        {
          "output_type": "stream",
          "name": "stdout",
          "text": [
            "Looking in indexes: https://pypi.org/simple, https://us-python.pkg.dev/colab-wheels/public/simple/\n",
            "Collecting experta\n",
            "  Downloading experta-1.9.4-py3-none-any.whl (35 kB)\n",
            "Collecting frozendict==1.2\n",
            "  Downloading frozendict-1.2.tar.gz (2.6 kB)\n",
            "Collecting schema==0.6.7\n",
            "  Downloading schema-0.6.7-py2.py3-none-any.whl (14 kB)\n",
            "Building wheels for collected packages: frozendict\n",
            "  Building wheel for frozendict (setup.py) ... \u001b[?25l\u001b[?25hdone\n",
            "  Created wheel for frozendict: filename=frozendict-1.2-py3-none-any.whl size=3166 sha256=32faecccfdc52b735e0e0f82d5a873509a4cde904f3c84637cc618e468f57aea\n",
            "  Stored in directory: /root/.cache/pip/wheels/68/17/69/ac196dd181e620bba5fae5488e4fd6366a7316dce13cf88776\n",
            "Successfully built frozendict\n",
            "Installing collected packages: schema, frozendict, experta\n",
            "Successfully installed experta-1.9.4 frozendict-1.2 schema-0.6.7\n"
          ]
        }
      ]
    },
    {
      "cell_type": "markdown",
      "source": [
        "Facts\n",
        "Facts are the basic unit of information of Experta. They are used by the system to reason about the problem.\n",
        "\n",
        "Let's enumerate some facts about Facts, so... metafacts ;)\n",
        "\n",
        "The class Fact is a subclass of dict."
      ],
      "metadata": {
        "id": "LVuLtqotudyZ"
      }
    },
    {
      "cell_type": "code",
      "source": [
        "from experta import *\n",
        "f = Fact(a=1, b=2)\n",
        "f['a']"
      ],
      "metadata": {
        "colab": {
          "base_uri": "https://localhost:8080/"
        },
        "id": "8AUJ9g4tuiry",
        "outputId": "8506a67d-3a8a-4333-9f9f-81add0ed1c77"
      },
      "execution_count": 43,
      "outputs": [
        {
          "output_type": "execute_result",
          "data": {
            "text/plain": [
              "1"
            ]
          },
          "metadata": {},
          "execution_count": 43
        }
      ]
    },
    {
      "cell_type": "markdown",
      "source": [
        "In contrast to dict, you can create a Fact without keys (only values), and Fact will create a numeric index for your values.\n",
        "\n"
      ],
      "metadata": {
        "id": "ptY_DO8uur9q"
      }
    },
    {
      "cell_type": "code",
      "source": [
        "f = Fact('x', 'y', 'z') \n",
        "f[0]"
      ],
      "metadata": {
        "colab": {
          "base_uri": "https://localhost:8080/",
          "height": 35
        },
        "id": "TZrsOdnTuusE",
        "outputId": "13437d39-3d29-4992-b531-aa3eaba19044"
      },
      "execution_count": 44,
      "outputs": [
        {
          "output_type": "execute_result",
          "data": {
            "text/plain": [
              "'x'"
            ],
            "application/vnd.google.colaboratory.intrinsic+json": {
              "type": "string"
            }
          },
          "metadata": {},
          "execution_count": 44
        }
      ]
    },
    {
      "cell_type": "markdown",
      "source": [
        "You can mix autonumeric values with key-values, but autonumeric must be declared first\n",
        "\n"
      ],
      "metadata": {
        "id": "ZQKKebvou0pA"
      }
    },
    {
      "cell_type": "code",
      "source": [
        "f = Fact('x', 'y', 'z', a=1, b=2)\n",
        "f[1] # using index "
      ],
      "metadata": {
        "colab": {
          "base_uri": "https://localhost:8080/",
          "height": 35
        },
        "id": "HE83o3Qlu1P7",
        "outputId": "6188a44d-6f71-4c21-adec-db9568a89319"
      },
      "execution_count": 45,
      "outputs": [
        {
          "output_type": "execute_result",
          "data": {
            "text/plain": [
              "'y'"
            ],
            "application/vnd.google.colaboratory.intrinsic+json": {
              "type": "string"
            }
          },
          "metadata": {},
          "execution_count": 45
        }
      ]
    },
    {
      "cell_type": "code",
      "source": [
        "f['b']\n"
      ],
      "metadata": {
        "colab": {
          "base_uri": "https://localhost:8080/"
        },
        "id": "1OL77-Pxu7ut",
        "outputId": "923309b3-5b2d-4788-ecc4-221732d85b2c"
      },
      "execution_count": 46,
      "outputs": [
        {
          "output_type": "execute_result",
          "data": {
            "text/plain": [
              "2"
            ]
          },
          "metadata": {},
          "execution_count": 46
        }
      ]
    },
    {
      "cell_type": "markdown",
      "source": [
        "**Facts**\n",
        "bold textYou can subclass Fact to express different kinds of data or extend it with your custom functionality."
      ],
      "metadata": {
        "id": "v8-IVus8vG5H"
      }
    },
    {
      "cell_type": "code",
      "source": [
        "class Alert(Fact):\n",
        "    \"\"\"The alert level.\"\"\"\n",
        "    pass\n",
        "\n",
        "class Status(Fact):\n",
        "    \"\"\"The system status.\"\"\"\n",
        "    pass\n",
        "\n",
        "f1 = Alert('red')\n",
        "f2 = Status('critical')\n",
        "my_fact=Fact(alert='red',status='critical')\n",
        "print(my_fact)"
      ],
      "metadata": {
        "colab": {
          "base_uri": "https://localhost:8080/"
        },
        "id": "-ZIHtpVDvIR2",
        "outputId": "063f1e1d-db84-4be1-f44b-8a32eac619d2"
      },
      "execution_count": 49,
      "outputs": [
        {
          "output_type": "stream",
          "name": "stdout",
          "text": [
            "<Undeclared Fact> Fact(alert='red', status='critical')\n"
          ]
        }
      ]
    },
    {
      "cell_type": "code",
      "source": [
        "print(f1)"
      ],
      "metadata": {
        "colab": {
          "base_uri": "https://localhost:8080/"
        },
        "id": "Qln4vmr3vX1F",
        "outputId": "0a35e72d-e4ba-40d5-a4fb-04f01aee09bf"
      },
      "execution_count": 48,
      "outputs": [
        {
          "output_type": "stream",
          "name": "stdout",
          "text": [
            "<Undeclared Fact> Alert('red')\n"
          ]
        }
      ]
    },
    {
      "cell_type": "markdown",
      "source": [
        "**Rules**\n",
        "In Experta a rule is a callable, decorated with Rule.\n",
        "\n",
        "Rules have two components, LHS (left-hand-side) and RHS (right-hand-side).\n",
        "\n",
        "1-The LHS describes (using **patterns**) the conditions on which the rule * should be executed (or fired).\n",
        "\n",
        "2-The RHS is the set of actions to perform when the rule is fired.\n",
        "\n",
        "For a Fact to match a Pattern, all pattern restrictions must be **True** when the Fact is evaluated against it."
      ],
      "metadata": {
        "id": "aD4kjnLzv26d"
      }
    },
    {
      "cell_type": "code",
      "source": [],
      "metadata": {
        "id": "zarPM3JhwMYm"
      },
      "execution_count": null,
      "outputs": []
    },
    {
      "cell_type": "code",
      "source": [
        "class MyFact(Fact):\n",
        "  pass\n",
        "\n",
        "@Rule(MyFact())  # This is the LHS\n",
        "def match_with_every_myfact():\n",
        "  \"\"\"This rule will match with every instance of `MyFact`.\"\"\"\n",
        "  # This is the RHS\n",
        "  pass\n",
        "\n",
        "@Rule(Fact('animal', family='felinae'))\n",
        "def match_with_cats():\n",
        "  \"\"\"\n",
        "  Match with every `Fact` which:\n",
        "\n",
        "    * f[0] == 'animal'\n",
        "    * f['family'] == 'felinae'\n",
        "\n",
        "  \"\"\"\n",
        "  print(\"Meow!\")"
      ],
      "metadata": {
        "id": "iMM4qIVrwcCK"
      },
      "execution_count": 51,
      "outputs": []
    },
    {
      "cell_type": "markdown",
      "source": [
        "**DefFacts**\n",
        "\n",
        "Most of the time expert systems needs a set of facts to be present for the system to work. This is the purpose of the DefFacts decorator.\n",
        "\n",
        "All DefFacts inside a KnowledgeEngine will be called every time the reset method is called."
      ],
      "metadata": {
        "id": "MvyR8_5RwsTO"
      }
    },
    {
      "cell_type": "markdown",
      "source": [
        "KnowledgeEngine\n",
        "\n",
        "This is the place where all the magic happens.\n",
        "\n",
        "The first step is to make a subclass of it and use Rule to decorate its methods.\n",
        "\n",
        "After that, you can instantiate it, populate it with facts, and finally run it."
      ],
      "metadata": {
        "id": "1JaVQEG7w-2D"
      }
    },
    {
      "cell_type": "code",
      "source": [
        "engine = KnowledgeEngine()\n",
        "engine.reset()\n",
        "engine.declare(Fact(Color='Blue'))"
      ],
      "metadata": {
        "colab": {
          "base_uri": "https://localhost:8080/"
        },
        "id": "In8vw-QGxE8t",
        "outputId": "09930f6f-cc29-4b13-f7a8-d1c7905d004f"
      },
      "execution_count": 52,
      "outputs": [
        {
          "output_type": "execute_result",
          "data": {
            "text/plain": [
              "Fact(Color='Blue')"
            ]
          },
          "metadata": {},
          "execution_count": 52
        }
      ]
    },
    {
      "cell_type": "code",
      "source": [
        "engine.facts"
      ],
      "metadata": {
        "colab": {
          "base_uri": "https://localhost:8080/"
        },
        "id": "HrIE7KXSxLxn",
        "outputId": "d0795913-7b58-4c88-ebd0-d9b4204769ef"
      },
      "execution_count": 53,
      "outputs": [
        {
          "output_type": "execute_result",
          "data": {
            "text/plain": [
              "FactList([(0, InitialFact()), (1, Fact(Color='Blue'))])"
            ]
          },
          "metadata": {},
          "execution_count": 53
        }
      ]
    },
    {
      "cell_type": "markdown",
      "source": [
        "**A simple Example about trafic light**\n"
      ],
      "metadata": {
        "id": "KxhnrRcsxQru"
      }
    },
    {
      "cell_type": "code",
      "source": [
        "from random import choice\n",
        "from experta import *\n",
        "\n",
        "\n",
        "class Light(Fact):\n",
        "  \"\"\"Info about the traffic light.\"\"\"\n",
        "  pass\n",
        "\n",
        "\n",
        "class RobotCrossStreet(KnowledgeEngine):\n",
        "  @Rule(Light(color='green'))\n",
        "  def green_light(self):\n",
        "      print(\"Walk\")\n",
        "\n",
        "  @Rule(Light(color='red'))\n",
        "  def red_light(self):\n",
        "      print(\"Don't walk\")\n",
        "\n",
        "  @Rule(AS.light << Light(color=L('yellow') | L('blinking-yellow')))\n",
        "  def cautious(self, light):\n",
        "      print(\"Be cautious because light is\", light[\"color\"])\n",
        "\n",
        "engine = RobotCrossStreet()\n",
        "engine.reset()\n",
        "color_now = choice(['green', 'yellow', 'blinking-yellow', 'red'])\n",
        "print('color now:', color_now)\n",
        "engine.declare(Light(color=color_now))\n",
        "engine.run()"
      ],
      "metadata": {
        "colab": {
          "base_uri": "https://localhost:8080/"
        },
        "id": "Agx06z1uxWg0",
        "outputId": "1ca2525c-bc44-4fea-95b7-843b3b36e22b"
      },
      "execution_count": 54,
      "outputs": [
        {
          "output_type": "stream",
          "name": "stdout",
          "text": [
            "color now: blinking-yellow\n",
            "Be cautious because light is blinking-yellow\n"
          ]
        }
      ]
    },
    {
      "cell_type": "markdown",
      "source": [
        "**Animal Example**\n"
      ],
      "metadata": {
        "id": "T5EiUC8Fxec3"
      }
    },
    {
      "cell_type": "code",
      "source": [
        "# (defrule duck animal-is duck) => (assert (sound-is quack))) \n",
        "\n",
        "class Animal(Fact):\n",
        "  \"\"\"Info about the traffic light.\"\"\"\n",
        "  pass\n",
        "\n",
        "\n",
        "class AnimalKE1(KnowledgeEngine):\n",
        "  @Rule(Animal('cat'))\n",
        "  def cat_sound(self):\n",
        "      print(\"mew\")\n",
        "\n",
        "  @Rule(Animal('duck'))\n",
        "  def duck_sound(self):\n",
        "      print(\"quack\")\n",
        "\n",
        "\n",
        "engine = AnimalKE1()\n",
        "engine.reset()\n",
        "animal_type = choice(['duck', 'cat', 'horse'])\n",
        "print('animal:', animal_type)\n",
        "engine.declare(Animal(animal_type))\n",
        "engine.run()"
      ],
      "metadata": {
        "colab": {
          "base_uri": "https://localhost:8080/"
        },
        "id": "IiLViE3YxjJR",
        "outputId": "2e518dfe-5cbe-4772-8a45-876561fbc6c9"
      },
      "execution_count": 55,
      "outputs": [
        {
          "output_type": "stream",
          "name": "stdout",
          "text": [
            "animal: horse\n"
          ]
        }
      ]
    },
    {
      "cell_type": "code",
      "source": [
        "# (defrule is-it-a-duck\n",
        "#   (animal-has webbed-feet)\n",
        "#   (animal-has feathers)\n",
        "#   =>\n",
        "#   (assert (animal-is duck)))\n",
        "\n",
        "class Animal(Fact):\n",
        "  \"\"\"Info about the traffic light.\"\"\"\n",
        "  pass\n",
        "\n",
        "\n",
        "class AnimalKE2(KnowledgeEngine):\n",
        "  @Rule(AND( Animal(has=('feathers')), Animal(has=('feathers'))))\n",
        "  def guess_animal(self):\n",
        "    print(\"Animal is duck\")\n",
        "    print(\"Sound is quack\")\n",
        "\n",
        "\n",
        "engine = AnimalKE2()\n",
        "engine.reset()\n",
        "engine.declare(Animal(has='feathers'), Animal(has='webbed-feet'))\n",
        "engine.run()"
      ],
      "metadata": {
        "colab": {
          "base_uri": "https://localhost:8080/"
        },
        "id": "6zZNi1cExudU",
        "outputId": "91ab353c-813b-4175-b3be-c150fa8b78a8"
      },
      "execution_count": 56,
      "outputs": [
        {
          "output_type": "stream",
          "name": "stdout",
          "text": [
            "Animal is duck\n",
            "Sound is quack\n"
          ]
        }
      ]
    },
    {
      "cell_type": "markdown",
      "source": [
        "**conclude a fact**\n"
      ],
      "metadata": {
        "id": "IODQZ0pxxyJa"
      }
    },
    {
      "cell_type": "code",
      "source": [
        "class Animal(Fact):\n",
        "  \"\"\"Info about the traffic light.\"\"\"\n",
        "  pass\n",
        "\n",
        "\n",
        "class AnimalKE3(KnowledgeEngine):\n",
        "  @Rule(AND( Animal(has=('feathers')), Animal(has=('webbed-feet'))))\n",
        "  def guess_animal(self):\n",
        "    self.declare(Animal('duck'))\n",
        "    print(self.facts)\n",
        "  \n",
        "  @Rule(Animal('duck'))\n",
        "  def it_is_duck(self):\n",
        "    print(\"Animal is duck\")\n",
        "    print(\"Sound is quack\")\n",
        "\n",
        "engine = AnimalKE3()\n",
        "engine.reset()\n",
        "engine.declare(Animal(has='feathers'), Animal(has='webbed-feet'))\n",
        "engine.run()\n",
        "engine.run()"
      ],
      "metadata": {
        "colab": {
          "base_uri": "https://localhost:8080/"
        },
        "id": "05yyxY9lx0mK",
        "outputId": "086a0b92-4ae1-42b3-e977-15f047d4cf70"
      },
      "execution_count": 57,
      "outputs": [
        {
          "output_type": "stream",
          "name": "stdout",
          "text": [
            "<f-0>: InitialFact()\n",
            "<f-1>: Animal(has='feathers')\n",
            "<f-2>: Animal(has='webbed-feet')\n",
            "<f-3>: Animal('duck')\n",
            "Animal is duck\n",
            "Sound is quack\n"
          ]
        }
      ]
    }
  ]
}